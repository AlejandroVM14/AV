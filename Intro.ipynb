{
  "nbformat": 4,
  "nbformat_minor": 0,
  "metadata": {
    "colab": {
      "name": "Intro.ipynb",
      "provenance": [],
      "include_colab_link": true
    },
    "kernelspec": {
      "name": "python3",
      "display_name": "Python 3"
    }
  },
  "cells": [
    {
      "cell_type": "markdown",
      "metadata": {
        "id": "view-in-github",
        "colab_type": "text"
      },
      "source": [
        "<a href=\"https://colab.research.google.com/github/mleyvaz/AV/blob/master/Intro.ipynb\" target=\"_parent\"><img src=\"https://colab.research.google.com/assets/colab-badge.svg\" alt=\"Open In Colab\"/></a>"
      ]
    },
    {
      "cell_type": "markdown",
      "metadata": {
        "id": "__SkGIXpf1GQ",
        "colab_type": "text"
      },
      "source": [
        "# 0-Configuración"
      ]
    },
    {
      "cell_type": "code",
      "metadata": {
        "id": "LsvniTNNf4YO",
        "colab_type": "code",
        "colab": {}
      },
      "source": [
        "import numpy as np\n",
        "import pandas as pd\n",
        "\n",
        "from matplotlib import pyplot as plt\n",
        "\n",
        "import seaborn as sns\n",
        "\n",
        "from sklearn.model_selection import train_test_split\n",
        "from sklearn.neighbors import KNeighborsClassifier\n",
        "from sklearn.metrics import confusion_matrix\n",
        "\n",
        "from joblib import dump, load"
      ],
      "execution_count": 0,
      "outputs": []
    },
    {
      "cell_type": "markdown",
      "metadata": {
        "id": "aTyu-Ou1f_0w",
        "colab_type": "text"
      },
      "source": [
        "#1-Carga de los datos\n",
        "Dataset: https://archive.ics.uci.edu/ml/machine-learning-databases/iris/iris.data.\n",
        "![texto alternativo](https://yculz33w9skgdkhey8rajqm6-wpengine.netdna-ssl.com/wp-content/uploads/2018/11/versicolor.jpg)"
      ]
    },
    {
      "cell_type": "code",
      "metadata": {
        "id": "aOG9dyuieMjI",
        "colab_type": "code",
        "colab": {}
      },
      "source": [
        "cols = ['sepal_length', ' sepal_width', 'petal_length', 'petal_width', 'class']\n",
        "df = pd.read_csv('https://archive.ics.uci.edu/ml/machine-learning-databases/iris/iris.data', names=cols)\n",
        "df.head()"
      ],
      "execution_count": 0,
      "outputs": []
    },
    {
      "cell_type": "markdown",
      "metadata": {
        "id": "u1rj_nK6gqw_",
        "colab_type": "text"
      },
      "source": [
        "# 2-Exploración y visualización de los datos"
      ]
    },
    {
      "cell_type": "code",
      "metadata": {
        "id": "LPhr_kqQccbZ",
        "colab_type": "code",
        "colab": {}
      },
      "source": [
        "df.describe()"
      ],
      "execution_count": 0,
      "outputs": []
    },
    {
      "cell_type": "code",
      "metadata": {
        "id": "gmn-8D3KdyCT",
        "colab_type": "code",
        "colab": {}
      },
      "source": [
        "sns.pairplot(df, hue='class');"
      ],
      "execution_count": 0,
      "outputs": []
    },
    {
      "cell_type": "markdown",
      "metadata": {
        "id": "2aXYb7QihGkB",
        "colab_type": "text"
      },
      "source": [
        "# Mapa de Calor\n",
        "*Qué es un mapa de calor?*"
      ]
    },
    {
      "cell_type": "code",
      "metadata": {
        "id": "AjWZ2Ej9d4Z_",
        "colab_type": "code",
        "colab": {}
      },
      "source": [
        "sns.heatmap(df.corr(), annot=True)"
      ],
      "execution_count": 0,
      "outputs": []
    },
    {
      "cell_type": "markdown",
      "metadata": {
        "id": "ubsWBhGMlv42",
        "colab_type": "text"
      },
      "source": [
        "# 3-Preprocesamiento de los datos"
      ]
    },
    {
      "cell_type": "code",
      "metadata": {
        "id": "qCZgM2erexux",
        "colab_type": "code",
        "colab": {}
      },
      "source": [
        "df['class_encod'] = df['class'].apply(lambda x: 0 if x == 'Iris-setosa' else 1 if x == 'Iris-versicolor' else 2)\n",
        "df['class_encod'].unique()"
      ],
      "execution_count": 0,
      "outputs": []
    },
    {
      "cell_type": "markdown",
      "metadata": {
        "id": "8f-rw7JDmFmB",
        "colab_type": "text"
      },
      "source": [
        "# Seleccion del algoritmo y entrenamiento"
      ]
    },
    {
      "cell_type": "markdown",
      "metadata": {
        "id": "g4oBNa6Nmjna",
        "colab_type": "text"
      },
      "source": [
        ""
      ]
    },
    {
      "cell_type": "code",
      "metadata": {
        "id": "i0oeFxz_e51F",
        "colab_type": "code",
        "colab": {}
      },
      "source": [
        "y = df[['class_encod']] # target attributes \n",
        "X = df.iloc[:, 0:4] # input attributes\n",
        "X.head()"
      ],
      "execution_count": 0,
      "outputs": []
    },
    {
      "cell_type": "markdown",
      "metadata": {
        "id": "UgnbpT0kmm3w",
        "colab_type": "text"
      },
      "source": [
        "## Conjunto de entramiento -conjunto de pruebas"
      ]
    },
    {
      "cell_type": "code",
      "metadata": {
        "id": "k-Ie8TJ2e_Gh",
        "colab_type": "code",
        "colab": {}
      },
      "source": [
        "X_train, X_test, y_train, y_test = train_test_split(X, y, test_size=0.3,\n",
        "                                                    random_state=0, stratify=y)\n",
        "\n",
        "np.shape(y_train)"
      ],
      "execution_count": 0,
      "outputs": []
    },
    {
      "cell_type": "markdown",
      "metadata": {
        "id": "QJcGB-5amu5Y",
        "colab_type": "text"
      },
      "source": [
        "## Modelo K-vecinos más cercanos\n",
        "*en que consiste*"
      ]
    },
    {
      "cell_type": "code",
      "metadata": {
        "id": "BzgtfJ2EfFnQ",
        "colab_type": "code",
        "colab": {}
      },
      "source": [
        "m = KNeighborsClassifier()\n",
        "m.fit(X_train, np.ravel(y_train))"
      ],
      "execution_count": 0,
      "outputs": []
    },
    {
      "cell_type": "code",
      "metadata": {
        "id": "Bb0E8Ir2fKfK",
        "colab_type": "code",
        "colab": {}
      },
      "source": [
        "m.predict(X_test.iloc[0:10])"
      ],
      "execution_count": 0,
      "outputs": []
    },
    {
      "cell_type": "markdown",
      "metadata": {
        "id": "awi6kDkMnLca",
        "colab_type": "text"
      },
      "source": [
        "## Matriz de confusión \n",
        "*Qués es la matriz de confusión*\n",
        " [Como interpretarla](https://www.i-ciencias.com/pregunta/147422/como-puedo-interpretar-la-matriz-de-confusion-de-sklearn)"
      ]
    },
    {
      "cell_type": "code",
      "metadata": {
        "id": "JldezhK2fSOk",
        "colab_type": "code",
        "colab": {}
      },
      "source": [
        "m.score(X_test, y_test)\n",
        "confusion_matrix(y_test, m.predict(X_test))"
      ],
      "execution_count": 0,
      "outputs": []
    },
    {
      "cell_type": "markdown",
      "metadata": {
        "id": "t-R-83eAoPPP",
        "colab_type": "text"
      },
      "source": [
        "# Guardar el modelo"
      ]
    },
    {
      "cell_type": "code",
      "metadata": {
        "id": "i28QiYfEfX5Y",
        "colab_type": "code",
        "colab": {}
      },
      "source": [
        "dump(m, 'iris-classifier.dmp')\n",
        "\n",
        "ic = load('iris-classifier.dmp')\n",
        "confusion_matrix(y_test, ic.predict(X_test))"
      ],
      "execution_count": 0,
      "outputs": []
    },
    {
      "cell_type": "code",
      "metadata": {
        "id": "-yYBLoQRfdwc",
        "colab_type": "code",
        "colab": {}
      },
      "source": [
        ""
      ],
      "execution_count": 0,
      "outputs": []
    }
  ]
}