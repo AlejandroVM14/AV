{
  "nbformat": 4,
  "nbformat_minor": 0,
  "metadata": {
    "colab": {
      "name": "Copia de SQLITE-COLLAB",
      "provenance": [],
      "authorship_tag": "ABX9TyN9rDhr7VuO/RrlLjOkSS5Z",
      "include_colab_link": true
    },
    "kernelspec": {
      "name": "python3",
      "display_name": "Python 3"
    },
    "language_info": {
      "name": "python"
    }
  },
  "cells": [
    {
      "cell_type": "markdown",
      "metadata": {
        "id": "view-in-github",
        "colab_type": "text"
      },
      "source": [
        "<a href=\"https://colab.research.google.com/github/mleyvaz/AV/blob/master/Copia_de_SQLITE_COLLAB.ipynb\" target=\"_parent\"><img src=\"https://colab.research.google.com/assets/colab-badge.svg\" alt=\"Open In Colab\"/></a>"
      ]
    },
    {
      "cell_type": "code",
      "execution_count": null,
      "metadata": {
        "id": "WKy8cfgrwDoc"
      },
      "outputs": [],
      "source": [
        "import sqlite3\n",
        " \n",
        "conn = sqlite3.connect('test.db')\n",
        " \n",
        "conn.execute('''\n",
        "CREATE TABLE Departments (\n",
        "   Code INTEGER PRIMARY KEY NOT NULL,\n",
        "   Name NVARCHAR NOT NULL ,\n",
        "   Budget REAL NOT NULL \n",
        " );''')\n",
        " \n",
        "conn.commit()\n",
        " \n",
        "print(\"Departments table created\");\n",
        " \n",
        "conn.execute('''\n",
        "CREATE TABLE Employees (\n",
        "   SSN INTEGER PRIMARY KEY NOT NULL,\n",
        "   Name TEXT NOT NULL ,\n",
        "   LastName VARCHAR NOT NULL ,\n",
        "   Department INTEGER NOT NULL ,\n",
        "   Salary INTEGER NOT NULL,\n",
        "   CONSTRAINT fk_Departments_Code FOREIGN KEY(Department) \n",
        "   REFERENCES Departments(Code)\n",
        " );''')\n",
        " \n",
        "conn.commit()\n",
        " \n",
        "print(\"Employees table created\");"
      ]
    },
    {
      "cell_type": "code",
      "source": [
        "# Inserting data to Departments table\n",
        "conn.execute(\"INSERT INTO Departments(Code,Name,Budget) VALUES(14,'IT',64000);\")\n",
        "conn.execute(\"INSERT INTO Departments(Code,Name,Budget) VALUES(37,'Accounting',15000);\")\n",
        "conn.execute(\"INSERT INTO Departments(Code,Name,Budget) VALUES(59,'Human Resources',240000);\")\n",
        "conn.execute(\"INSERT INTO Departments(Code,Name,Budget) VALUES(77,'Research',55000);\")\n",
        " \n",
        "# Inserting data to Employees table\n",
        "conn.execute(\"INSERT INTO Employees(SSN,Name,LastName,Department,Salary) VALUES('123234877','Michael','Rogers',14,100);\")\n",
        "conn.execute(\"INSERT INTO Employees(SSN,Name,LastName,Department,Salary) VALUES('152934485','Anand','Manikutty',14,300);\")\n",
        "conn.execute(\" INSERT INTO Employees(SSN,Name,LastName,Department,Salary) VALUES('222364883','Carol','Smith',37,200); \")\n",
        "conn.execute(\" INSERT INTO Employees(SSN,Name,LastName,Department,Salary) VALUES('326587417','Joe','Stevens',37,150); \")\n",
        "conn.execute(\" INSERT INTO Employees(SSN,Name,LastName,Department,Salary) VALUES('332154719','Mary-Anne','Foster',14,500);\")\n",
        "conn.execute(\" INSERT INTO Employees(SSN,Name,LastName,Department,Salary) VALUES('332569843','George','O''Donnell',77,140);\")\n",
        "conn.execute(\" INSERT INTO Employees(SSN,Name,LastName,Department,Salary) VALUES('546523478','John','Doe',59,80);\")\n",
        "conn.execute(\"INSERT INTO Employees(SSN,Name,LastName,Department,Salary) VALUES('631231482','David','Smith',77,90);\")\n",
        "conn.execute(\" INSERT INTO Employees(SSN,Name,LastName,Department,Salary) VALUES('654873219','Zacary','Efron',59,600);\")\n",
        "conn.execute(\" INSERT INTO Employees(SSN,Name,LastName,Department,Salary) VALUES('745685214','Eric','Goldsmith',59,130);\")\n",
        "conn.execute(\" INSERT INTO Employees(SSN,Name,LastName,Department,Salary) VALUES('845657245','Elizabeth','Doe',14,120);\")\n",
        "conn.execute(\" INSERT INTO Employees(SSN,Name,LastName,Department,Salary) VALUES('845657246','Kumar','Swamy',14,50);\")\n",
        "conn.commit()\n"
      ],
      "metadata": {
        "id": "gcKJYrQJxDKE"
      },
      "execution_count": null,
      "outputs": []
    },
    {
      "cell_type": "code",
      "source": [
        "conn = sqlite3.connect('test.db')\n",
        "cursor = conn.execute(''' SELECT * FROM Departments ''')\n",
        "for row in cursor:\n",
        "  print(row)"
      ],
      "metadata": {
        "id": "rCoMNbydxVf0"
      },
      "execution_count": null,
      "outputs": []
    },
    {
      "cell_type": "code",
      "source": [
        ""
      ],
      "metadata": {
        "id": "Uppy_x-n5HLB"
      },
      "execution_count": null,
      "outputs": []
    },
    {
      "cell_type": "markdown",
      "source": [
        "Permita al usuario  introducir por el teclado el presupuesto mínim de los departementos  que desea listar \n",
        "\n",
        "criterio = input(\"Ingrese criterio presupuesto minimo del departamento  \") \n",
        "\n",
        "query = \"SELECT * FROM Departments  WHERE Budget > '%s'\" % criterio "
      ],
      "metadata": {
        "id": "e08mZTKB5Twv"
      }
    },
    {
      "cell_type": "code",
      "source": [
        "\n",
        "# Inciso A aqui\n"
      ],
      "metadata": {
        "id": "aWP93Ie94B8R"
      },
      "execution_count": null,
      "outputs": []
    },
    {
      "cell_type": "markdown",
      "source": [
        "Cree un formulario que permita el usuario especificar el presupuesto máximo o igual  los departemento que desea listar\n",
        "\n",
        " presupuesto =  67000#@param {type:\"integer\"}\n",
        "\n",
        "query = \"SELECT * FROM Departments  WHERE Budget > '%s'\" % presupuesto "
      ],
      "metadata": {
        "id": "WJDp76s-46Jp"
      }
    },
    {
      "cell_type": "code",
      "source": [
        "\n",
        "# B aquí\n"
      ],
      "metadata": {
        "id": "_yamkXk141KC"
      },
      "execution_count": null,
      "outputs": []
    },
    {
      "cell_type": "code",
      "source": [
        "# close the connection\n",
        "conn.close()"
      ],
      "metadata": {
        "id": "4kAB96mPxaI5"
      },
      "execution_count": null,
      "outputs": []
    }
  ]
}