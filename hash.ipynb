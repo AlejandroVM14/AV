{
  "nbformat": 4,
  "nbformat_minor": 0,
  "metadata": {
    "colab": {
      "name": "hash.ipynb",
      "provenance": [],
      "authorship_tag": "ABX9TyOEK9yaSSKF9NN62KwdNpPd",
      "include_colab_link": true
    },
    "kernelspec": {
      "name": "python3",
      "display_name": "Python 3"
    },
    "language_info": {
      "name": "python"
    }
  },
  "cells": [
    {
      "cell_type": "markdown",
      "metadata": {
        "id": "view-in-github",
        "colab_type": "text"
      },
      "source": [
        "<a href=\"https://colab.research.google.com/github/mleyvaz/AV/blob/master/hash.ipynb\" target=\"_parent\"><img src=\"https://colab.research.google.com/assets/colab-badge.svg\" alt=\"Open In Colab\"/></a>"
      ]
    },
    {
      "cell_type": "code",
      "metadata": {
        "id": "61Xj5kyMGNNq"
      },
      "source": [
        "# hash for integer unchanged\n",
        "print('Hash for 181 is:', hash(181))\n",
        "# hash for decimal\n",
        "print('Hash for 181.23 is:',hash(181.23))\n",
        "# hash for string\n",
        "print('Hash for Python is:', hash('Python'))\n",
        "# hash for string\n",
        "print('Hash for Python is:', hash('python'))"
      ],
      "execution_count": null,
      "outputs": []
    }
  ]
}